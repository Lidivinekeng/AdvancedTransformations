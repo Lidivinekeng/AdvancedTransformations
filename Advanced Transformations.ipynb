{
 "cells": [
  {
   "cell_type": "code",
   "execution_count": 1,
   "id": "ad89a37d",
   "metadata": {},
   "outputs": [],
   "source": [
    "# Standard Imports\n",
    "import numpy as np\n",
    "import pandas as pd\n",
    "import matplotlib.pyplot as plt\n",
    "import seaborn as sns\n",
    "\n",
    "# Additional Imports\n",
    "# os - for saving and loading files\n",
    "# json - to work with json files\n",
    "# math - to round up results\n",
    "# time - to add a short pause to not overwhelm the server\n",
    "import os, json, math, time\n",
    "\n",
    "# to make yelpapi calls\n",
    "from yelpapi import YelpAPI\n",
    "\n",
    "# progress bar from tqdm_notebook\n",
    "from tqdm.notebook import tqdm_notebook"
   ]
  },
  {
   "cell_type": "code",
   "execution_count": 2,
   "id": "803f74b6",
   "metadata": {},
   "outputs": [],
   "source": [
    "# Load the two CSV files\n",
    "superhero_powers = pd.read_csv(r'C:\\Users\\lidiv\\core\\Applying Advanced Transformations (Core)\\AdvancedTransformations\\superhero_powers - superhero_powers.csv')\n",
    "superhero_info = pd.read_csv(r'C:\\Users\\lidiv\\core\\Applying Advanced Transformations (Core)\\AdvancedTransformations\\superhero_info - superhero_info.csv')"
   ]
  },
  {
   "cell_type": "code",
   "execution_count": 3,
   "id": "73ddf4f5",
   "metadata": {},
   "outputs": [
    {
     "data": {
      "text/html": [
       "<div>\n",
       "<style scoped>\n",
       "    .dataframe tbody tr th:only-of-type {\n",
       "        vertical-align: middle;\n",
       "    }\n",
       "\n",
       "    .dataframe tbody tr th {\n",
       "        vertical-align: top;\n",
       "    }\n",
       "\n",
       "    .dataframe thead th {\n",
       "        text-align: right;\n",
       "    }\n",
       "</style>\n",
       "<table border=\"1\" class=\"dataframe\">\n",
       "  <thead>\n",
       "    <tr style=\"text-align: right;\">\n",
       "      <th></th>\n",
       "      <th>Hero|Publisher</th>\n",
       "      <th>Gender</th>\n",
       "      <th>Race</th>\n",
       "      <th>Alignment</th>\n",
       "      <th>Hair color</th>\n",
       "      <th>Eye color</th>\n",
       "      <th>Skin color</th>\n",
       "      <th>Measurements</th>\n",
       "    </tr>\n",
       "  </thead>\n",
       "  <tbody>\n",
       "    <tr>\n",
       "      <th>0</th>\n",
       "      <td>A-Bomb|Marvel Comics</td>\n",
       "      <td>Male</td>\n",
       "      <td>Human</td>\n",
       "      <td>good</td>\n",
       "      <td>No Hair</td>\n",
       "      <td>yellow</td>\n",
       "      <td>Unknown</td>\n",
       "      <td>{'Height': '203.0 cm', 'Weight': '441.0 kg'}</td>\n",
       "    </tr>\n",
       "    <tr>\n",
       "      <th>1</th>\n",
       "      <td>Abe Sapien|Dark Horse Comics</td>\n",
       "      <td>Male</td>\n",
       "      <td>Icthyo Sapien</td>\n",
       "      <td>good</td>\n",
       "      <td>No Hair</td>\n",
       "      <td>blue</td>\n",
       "      <td>blue</td>\n",
       "      <td>{'Height': '191.0 cm', 'Weight': '65.0 kg'}</td>\n",
       "    </tr>\n",
       "    <tr>\n",
       "      <th>2</th>\n",
       "      <td>Abin Sur|DC Comics</td>\n",
       "      <td>Male</td>\n",
       "      <td>Ungaran</td>\n",
       "      <td>good</td>\n",
       "      <td>No Hair</td>\n",
       "      <td>blue</td>\n",
       "      <td>red</td>\n",
       "      <td>{'Height': '185.0 cm', 'Weight': '90.0 kg'}</td>\n",
       "    </tr>\n",
       "    <tr>\n",
       "      <th>3</th>\n",
       "      <td>Abomination|Marvel Comics</td>\n",
       "      <td>Male</td>\n",
       "      <td>Human / Radiation</td>\n",
       "      <td>bad</td>\n",
       "      <td>No Hair</td>\n",
       "      <td>green</td>\n",
       "      <td>Unknown</td>\n",
       "      <td>{'Height': '203.0 cm', 'Weight': '441.0 kg'}</td>\n",
       "    </tr>\n",
       "    <tr>\n",
       "      <th>4</th>\n",
       "      <td>Absorbing Man|Marvel Comics</td>\n",
       "      <td>Male</td>\n",
       "      <td>Human</td>\n",
       "      <td>bad</td>\n",
       "      <td>No Hair</td>\n",
       "      <td>blue</td>\n",
       "      <td>Unknown</td>\n",
       "      <td>{'Height': '193.0 cm', 'Weight': '122.0 kg'}</td>\n",
       "    </tr>\n",
       "  </tbody>\n",
       "</table>\n",
       "</div>"
      ],
      "text/plain": [
       "                 Hero|Publisher Gender               Race Alignment  \\\n",
       "0          A-Bomb|Marvel Comics   Male              Human      good   \n",
       "1  Abe Sapien|Dark Horse Comics   Male      Icthyo Sapien      good   \n",
       "2            Abin Sur|DC Comics   Male            Ungaran      good   \n",
       "3     Abomination|Marvel Comics   Male  Human / Radiation       bad   \n",
       "4   Absorbing Man|Marvel Comics   Male              Human       bad   \n",
       "\n",
       "  Hair color Eye color Skin color  \\\n",
       "0    No Hair    yellow    Unknown   \n",
       "1    No Hair      blue       blue   \n",
       "2    No Hair      blue        red   \n",
       "3    No Hair     green    Unknown   \n",
       "4    No Hair      blue    Unknown   \n",
       "\n",
       "                                   Measurements  \n",
       "0  {'Height': '203.0 cm', 'Weight': '441.0 kg'}  \n",
       "1   {'Height': '191.0 cm', 'Weight': '65.0 kg'}  \n",
       "2   {'Height': '185.0 cm', 'Weight': '90.0 kg'}  \n",
       "3  {'Height': '203.0 cm', 'Weight': '441.0 kg'}  \n",
       "4  {'Height': '193.0 cm', 'Weight': '122.0 kg'}  "
      ]
     },
     "execution_count": 3,
     "metadata": {},
     "output_type": "execute_result"
    }
   ],
   "source": [
    "superhero_info.head()"
   ]
  },
  {
   "cell_type": "code",
   "execution_count": 4,
   "id": "9644097d",
   "metadata": {},
   "outputs": [
    {
     "name": "stdout",
     "output_type": "stream",
     "text": [
      "Columns in superhero_info DataFrame:\n",
      "Index(['Hero|Publisher', 'Gender', 'Race', 'Alignment', 'Hair color',\n",
      "       'Eye color', 'Skin color', 'Measurements'],\n",
      "      dtype='object')\n",
      "\n",
      "Columns in superhero_powers DataFrame:\n",
      "Index(['hero_names', 'Powers'], dtype='object')\n"
     ]
    }
   ],
   "source": [
    "print(\"Columns in superhero_info DataFrame:\")\n",
    "print(superhero_info.columns)\n",
    "\n",
    "print(\"\\nColumns in superhero_powers DataFrame:\")\n",
    "print(superhero_powers.columns)\n"
   ]
  },
  {
   "cell_type": "code",
   "execution_count": 5,
   "id": "d592c8ae",
   "metadata": {},
   "outputs": [],
   "source": [
    "# Add a new column 'Hero' in superhero_info by splitting 'Hero|Publisher'\n",
    "superhero_info['hero'] = superhero_info['Hero|Publisher'].str.split('|').str[0]"
   ]
  },
  {
   "cell_type": "code",
   "execution_count": 6,
   "id": "0d423b65",
   "metadata": {},
   "outputs": [],
   "source": [
    "# Add a new column 'Publisher' in superhero_info by splitting 'Hero|Publisher'\n",
    "superhero_info['Publisher'] = superhero_info['Hero|Publisher'].str.split('|').str[1]"
   ]
  },
  {
   "cell_type": "code",
   "execution_count": 7,
   "id": "8d41e601",
   "metadata": {},
   "outputs": [
    {
     "data": {
      "text/html": [
       "<div>\n",
       "<style scoped>\n",
       "    .dataframe tbody tr th:only-of-type {\n",
       "        vertical-align: middle;\n",
       "    }\n",
       "\n",
       "    .dataframe tbody tr th {\n",
       "        vertical-align: top;\n",
       "    }\n",
       "\n",
       "    .dataframe thead th {\n",
       "        text-align: right;\n",
       "    }\n",
       "</style>\n",
       "<table border=\"1\" class=\"dataframe\">\n",
       "  <thead>\n",
       "    <tr style=\"text-align: right;\">\n",
       "      <th></th>\n",
       "      <th>Hero|Publisher</th>\n",
       "      <th>Gender</th>\n",
       "      <th>Race</th>\n",
       "      <th>Alignment</th>\n",
       "      <th>Hair color</th>\n",
       "      <th>Eye color</th>\n",
       "      <th>Skin color</th>\n",
       "      <th>Measurements</th>\n",
       "      <th>hero</th>\n",
       "      <th>Publisher</th>\n",
       "    </tr>\n",
       "  </thead>\n",
       "  <tbody>\n",
       "    <tr>\n",
       "      <th>0</th>\n",
       "      <td>A-Bomb|Marvel Comics</td>\n",
       "      <td>Male</td>\n",
       "      <td>Human</td>\n",
       "      <td>good</td>\n",
       "      <td>No Hair</td>\n",
       "      <td>yellow</td>\n",
       "      <td>Unknown</td>\n",
       "      <td>{'Height': '203.0 cm', 'Weight': '441.0 kg'}</td>\n",
       "      <td>A-Bomb</td>\n",
       "      <td>Marvel Comics</td>\n",
       "    </tr>\n",
       "    <tr>\n",
       "      <th>1</th>\n",
       "      <td>Abe Sapien|Dark Horse Comics</td>\n",
       "      <td>Male</td>\n",
       "      <td>Icthyo Sapien</td>\n",
       "      <td>good</td>\n",
       "      <td>No Hair</td>\n",
       "      <td>blue</td>\n",
       "      <td>blue</td>\n",
       "      <td>{'Height': '191.0 cm', 'Weight': '65.0 kg'}</td>\n",
       "      <td>Abe Sapien</td>\n",
       "      <td>Dark Horse Comics</td>\n",
       "    </tr>\n",
       "    <tr>\n",
       "      <th>2</th>\n",
       "      <td>Abin Sur|DC Comics</td>\n",
       "      <td>Male</td>\n",
       "      <td>Ungaran</td>\n",
       "      <td>good</td>\n",
       "      <td>No Hair</td>\n",
       "      <td>blue</td>\n",
       "      <td>red</td>\n",
       "      <td>{'Height': '185.0 cm', 'Weight': '90.0 kg'}</td>\n",
       "      <td>Abin Sur</td>\n",
       "      <td>DC Comics</td>\n",
       "    </tr>\n",
       "    <tr>\n",
       "      <th>3</th>\n",
       "      <td>Abomination|Marvel Comics</td>\n",
       "      <td>Male</td>\n",
       "      <td>Human / Radiation</td>\n",
       "      <td>bad</td>\n",
       "      <td>No Hair</td>\n",
       "      <td>green</td>\n",
       "      <td>Unknown</td>\n",
       "      <td>{'Height': '203.0 cm', 'Weight': '441.0 kg'}</td>\n",
       "      <td>Abomination</td>\n",
       "      <td>Marvel Comics</td>\n",
       "    </tr>\n",
       "    <tr>\n",
       "      <th>4</th>\n",
       "      <td>Absorbing Man|Marvel Comics</td>\n",
       "      <td>Male</td>\n",
       "      <td>Human</td>\n",
       "      <td>bad</td>\n",
       "      <td>No Hair</td>\n",
       "      <td>blue</td>\n",
       "      <td>Unknown</td>\n",
       "      <td>{'Height': '193.0 cm', 'Weight': '122.0 kg'}</td>\n",
       "      <td>Absorbing Man</td>\n",
       "      <td>Marvel Comics</td>\n",
       "    </tr>\n",
       "  </tbody>\n",
       "</table>\n",
       "</div>"
      ],
      "text/plain": [
       "                 Hero|Publisher Gender               Race Alignment  \\\n",
       "0          A-Bomb|Marvel Comics   Male              Human      good   \n",
       "1  Abe Sapien|Dark Horse Comics   Male      Icthyo Sapien      good   \n",
       "2            Abin Sur|DC Comics   Male            Ungaran      good   \n",
       "3     Abomination|Marvel Comics   Male  Human / Radiation       bad   \n",
       "4   Absorbing Man|Marvel Comics   Male              Human       bad   \n",
       "\n",
       "  Hair color Eye color Skin color  \\\n",
       "0    No Hair    yellow    Unknown   \n",
       "1    No Hair      blue       blue   \n",
       "2    No Hair      blue        red   \n",
       "3    No Hair     green    Unknown   \n",
       "4    No Hair      blue    Unknown   \n",
       "\n",
       "                                   Measurements           hero  \\\n",
       "0  {'Height': '203.0 cm', 'Weight': '441.0 kg'}         A-Bomb   \n",
       "1   {'Height': '191.0 cm', 'Weight': '65.0 kg'}     Abe Sapien   \n",
       "2   {'Height': '185.0 cm', 'Weight': '90.0 kg'}       Abin Sur   \n",
       "3  {'Height': '203.0 cm', 'Weight': '441.0 kg'}    Abomination   \n",
       "4  {'Height': '193.0 cm', 'Weight': '122.0 kg'}  Absorbing Man   \n",
       "\n",
       "           Publisher  \n",
       "0      Marvel Comics  \n",
       "1  Dark Horse Comics  \n",
       "2          DC Comics  \n",
       "3      Marvel Comics  \n",
       "4      Marvel Comics  "
      ]
     },
     "execution_count": 7,
     "metadata": {},
     "output_type": "execute_result"
    }
   ],
   "source": [
    "superhero_info.head()"
   ]
  },
  {
   "cell_type": "code",
   "execution_count": 8,
   "id": "7a3566d1",
   "metadata": {},
   "outputs": [],
   "source": [
    "# Merge the two DataFrames using the 'hero' column\n",
    "superheroes = pd.merge(superhero_info, superhero_powers, left_on='hero', right_on='hero_names', how='inner')\n"
   ]
  },
  {
   "cell_type": "code",
   "execution_count": 9,
   "id": "1f88124c",
   "metadata": {},
   "outputs": [],
   "source": [
    "# Drop the redundant columns 'Hero|Publisher' and 'hero_names'\n",
    "superheroes.drop(columns=['Hero|Publisher', 'hero_names'], inplace=True)\n"
   ]
  },
  {
   "cell_type": "code",
   "execution_count": 10,
   "id": "21267610",
   "metadata": {},
   "outputs": [
    {
     "data": {
      "text/html": [
       "<div>\n",
       "<style scoped>\n",
       "    .dataframe tbody tr th:only-of-type {\n",
       "        vertical-align: middle;\n",
       "    }\n",
       "\n",
       "    .dataframe tbody tr th {\n",
       "        vertical-align: top;\n",
       "    }\n",
       "\n",
       "    .dataframe thead th {\n",
       "        text-align: right;\n",
       "    }\n",
       "</style>\n",
       "<table border=\"1\" class=\"dataframe\">\n",
       "  <thead>\n",
       "    <tr style=\"text-align: right;\">\n",
       "      <th></th>\n",
       "      <th>Gender</th>\n",
       "      <th>Race</th>\n",
       "      <th>Alignment</th>\n",
       "      <th>Hair color</th>\n",
       "      <th>Eye color</th>\n",
       "      <th>Skin color</th>\n",
       "      <th>Measurements</th>\n",
       "      <th>hero</th>\n",
       "      <th>Publisher</th>\n",
       "      <th>Powers</th>\n",
       "    </tr>\n",
       "  </thead>\n",
       "  <tbody>\n",
       "    <tr>\n",
       "      <th>0</th>\n",
       "      <td>Male</td>\n",
       "      <td>Human</td>\n",
       "      <td>good</td>\n",
       "      <td>No Hair</td>\n",
       "      <td>yellow</td>\n",
       "      <td>Unknown</td>\n",
       "      <td>{'Height': '203.0 cm', 'Weight': '441.0 kg'}</td>\n",
       "      <td>A-Bomb</td>\n",
       "      <td>Marvel Comics</td>\n",
       "      <td>Accelerated Healing,Durability,Longevity,Super...</td>\n",
       "    </tr>\n",
       "    <tr>\n",
       "      <th>1</th>\n",
       "      <td>Male</td>\n",
       "      <td>Icthyo Sapien</td>\n",
       "      <td>good</td>\n",
       "      <td>No Hair</td>\n",
       "      <td>blue</td>\n",
       "      <td>blue</td>\n",
       "      <td>{'Height': '191.0 cm', 'Weight': '65.0 kg'}</td>\n",
       "      <td>Abe Sapien</td>\n",
       "      <td>Dark Horse Comics</td>\n",
       "      <td>Agility,Accelerated Healing,Cold Resistance,Du...</td>\n",
       "    </tr>\n",
       "    <tr>\n",
       "      <th>2</th>\n",
       "      <td>Male</td>\n",
       "      <td>Ungaran</td>\n",
       "      <td>good</td>\n",
       "      <td>No Hair</td>\n",
       "      <td>blue</td>\n",
       "      <td>red</td>\n",
       "      <td>{'Height': '185.0 cm', 'Weight': '90.0 kg'}</td>\n",
       "      <td>Abin Sur</td>\n",
       "      <td>DC Comics</td>\n",
       "      <td>Lantern Power Ring</td>\n",
       "    </tr>\n",
       "    <tr>\n",
       "      <th>3</th>\n",
       "      <td>Male</td>\n",
       "      <td>Human / Radiation</td>\n",
       "      <td>bad</td>\n",
       "      <td>No Hair</td>\n",
       "      <td>green</td>\n",
       "      <td>Unknown</td>\n",
       "      <td>{'Height': '203.0 cm', 'Weight': '441.0 kg'}</td>\n",
       "      <td>Abomination</td>\n",
       "      <td>Marvel Comics</td>\n",
       "      <td>Accelerated Healing,Intelligence,Super Strengt...</td>\n",
       "    </tr>\n",
       "    <tr>\n",
       "      <th>4</th>\n",
       "      <td>Male</td>\n",
       "      <td>Human</td>\n",
       "      <td>bad</td>\n",
       "      <td>No Hair</td>\n",
       "      <td>blue</td>\n",
       "      <td>Unknown</td>\n",
       "      <td>{'Height': '193.0 cm', 'Weight': '122.0 kg'}</td>\n",
       "      <td>Absorbing Man</td>\n",
       "      <td>Marvel Comics</td>\n",
       "      <td>Cold Resistance,Durability,Energy Absorption,S...</td>\n",
       "    </tr>\n",
       "  </tbody>\n",
       "</table>\n",
       "</div>"
      ],
      "text/plain": [
       "  Gender               Race Alignment Hair color Eye color Skin color  \\\n",
       "0   Male              Human      good    No Hair    yellow    Unknown   \n",
       "1   Male      Icthyo Sapien      good    No Hair      blue       blue   \n",
       "2   Male            Ungaran      good    No Hair      blue        red   \n",
       "3   Male  Human / Radiation       bad    No Hair     green    Unknown   \n",
       "4   Male              Human       bad    No Hair      blue    Unknown   \n",
       "\n",
       "                                   Measurements           hero  \\\n",
       "0  {'Height': '203.0 cm', 'Weight': '441.0 kg'}         A-Bomb   \n",
       "1   {'Height': '191.0 cm', 'Weight': '65.0 kg'}     Abe Sapien   \n",
       "2   {'Height': '185.0 cm', 'Weight': '90.0 kg'}       Abin Sur   \n",
       "3  {'Height': '203.0 cm', 'Weight': '441.0 kg'}    Abomination   \n",
       "4  {'Height': '193.0 cm', 'Weight': '122.0 kg'}  Absorbing Man   \n",
       "\n",
       "           Publisher                                             Powers  \n",
       "0      Marvel Comics  Accelerated Healing,Durability,Longevity,Super...  \n",
       "1  Dark Horse Comics  Agility,Accelerated Healing,Cold Resistance,Du...  \n",
       "2          DC Comics                                 Lantern Power Ring  \n",
       "3      Marvel Comics  Accelerated Healing,Intelligence,Super Strengt...  \n",
       "4      Marvel Comics  Cold Resistance,Durability,Energy Absorption,S...  "
      ]
     },
     "execution_count": 10,
     "metadata": {},
     "output_type": "execute_result"
    }
   ],
   "source": [
    "superheroes.head()"
   ]
  },
  {
   "cell_type": "code",
   "execution_count": 11,
   "id": "555c7874",
   "metadata": {},
   "outputs": [
    {
     "data": {
      "text/plain": [
       "\"{'Height': '191.0 cm', 'Weight': '65.0 kg'}\""
      ]
     },
     "execution_count": 11,
     "metadata": {},
     "output_type": "execute_result"
    }
   ],
   "source": [
    "## slice out a single test coordinate\n",
    "test_mea = superheroes.loc[1, 'Measurements']\n",
    "test_mea"
   ]
  },
  {
   "cell_type": "code",
   "execution_count": 16,
   "id": "550e2607",
   "metadata": {},
   "outputs": [
    {
     "data": {
      "text/plain": [
       "str"
      ]
     },
     "execution_count": 16,
     "metadata": {},
     "output_type": "execute_result"
    }
   ],
   "source": [
    "\n",
    "type(test_mea)"
   ]
  },
  {
   "cell_type": "code",
   "execution_count": 17,
   "id": "0dee3461",
   "metadata": {},
   "outputs": [
    {
     "data": {
      "text/plain": [
       "{'Height': '191.0 cm', 'Weight': '65.0 kg'}"
      ]
     },
     "execution_count": 17,
     "metadata": {},
     "output_type": "execute_result"
    }
   ],
   "source": [
    "## Use json.loads on the test coordinate\n",
    "json.loads(test_mea)"
   ]
  },
  {
   "cell_type": "code",
   "execution_count": 18,
   "id": "78f104e1",
   "metadata": {},
   "outputs": [
    {
     "data": {
      "text/plain": [
       "'{\"Height\": \"191.0 cm\", \"Weight\": \"65.0 kg\"}'"
      ]
     },
     "execution_count": 18,
     "metadata": {},
     "output_type": "execute_result"
    }
   ],
   "source": [
    "## replace single ' with double \" \n",
    "test_mea = test_mea.replace(\"'\", '\"')\n",
    "test_mea"
   ]
  },
  {
   "cell_type": "code",
   "execution_count": 19,
   "id": "38658374",
   "metadata": {},
   "outputs": [
    {
     "data": {
      "text/plain": [
       "{'Height': '191.0 cm', 'Weight': '65.0 kg'}"
      ]
     },
     "execution_count": 19,
     "metadata": {},
     "output_type": "execute_result"
    }
   ],
   "source": [
    "## Use json.loads on the test coordinate, again\n",
    "json.loads(test_mea)"
   ]
  },
  {
   "cell_type": "code",
   "execution_count": 20,
   "id": "dc48a05b",
   "metadata": {},
   "outputs": [
    {
     "data": {
      "text/plain": [
       "dict"
      ]
     },
     "execution_count": 20,
     "metadata": {},
     "output_type": "execute_result"
    }
   ],
   "source": [
    "# viewing type after using json.loads\n",
    "type(json.loads(test_mea))"
   ]
  },
  {
   "cell_type": "code",
   "execution_count": 21,
   "id": "24c0be46",
   "metadata": {},
   "outputs": [],
   "source": [
    "## replace ' with \" (entire column)\n",
    "superheroes['Measurements'] = superheroes['Measurements'].str.replace(\"'\", '\"')\n",
    "## apply json.loads\n",
    "superheroes['Measurements'] = superheroes['Measurements'].apply(json.loads)"
   ]
  },
  {
   "cell_type": "code",
   "execution_count": 22,
   "id": "0e1d1e94",
   "metadata": {},
   "outputs": [
    {
     "data": {
      "text/html": [
       "<div>\n",
       "<style scoped>\n",
       "    .dataframe tbody tr th:only-of-type {\n",
       "        vertical-align: middle;\n",
       "    }\n",
       "\n",
       "    .dataframe tbody tr th {\n",
       "        vertical-align: top;\n",
       "    }\n",
       "\n",
       "    .dataframe thead th {\n",
       "        text-align: right;\n",
       "    }\n",
       "</style>\n",
       "<table border=\"1\" class=\"dataframe\">\n",
       "  <thead>\n",
       "    <tr style=\"text-align: right;\">\n",
       "      <th></th>\n",
       "      <th>Height</th>\n",
       "      <th>Weight</th>\n",
       "    </tr>\n",
       "  </thead>\n",
       "  <tbody>\n",
       "    <tr>\n",
       "      <th>0</th>\n",
       "      <td>203.0 cm</td>\n",
       "      <td>441.0 kg</td>\n",
       "    </tr>\n",
       "    <tr>\n",
       "      <th>1</th>\n",
       "      <td>191.0 cm</td>\n",
       "      <td>65.0 kg</td>\n",
       "    </tr>\n",
       "    <tr>\n",
       "      <th>2</th>\n",
       "      <td>185.0 cm</td>\n",
       "      <td>90.0 kg</td>\n",
       "    </tr>\n",
       "    <tr>\n",
       "      <th>3</th>\n",
       "      <td>203.0 cm</td>\n",
       "      <td>441.0 kg</td>\n",
       "    </tr>\n",
       "    <tr>\n",
       "      <th>4</th>\n",
       "      <td>193.0 cm</td>\n",
       "      <td>122.0 kg</td>\n",
       "    </tr>\n",
       "    <tr>\n",
       "      <th>...</th>\n",
       "      <td>...</td>\n",
       "      <td>...</td>\n",
       "    </tr>\n",
       "    <tr>\n",
       "      <th>458</th>\n",
       "      <td>183.0 cm</td>\n",
       "      <td>83.0 kg</td>\n",
       "    </tr>\n",
       "    <tr>\n",
       "      <th>459</th>\n",
       "      <td>165.0 cm</td>\n",
       "      <td>52.0 kg</td>\n",
       "    </tr>\n",
       "    <tr>\n",
       "      <th>460</th>\n",
       "      <td>66.0 cm</td>\n",
       "      <td>17.0 kg</td>\n",
       "    </tr>\n",
       "    <tr>\n",
       "      <th>461</th>\n",
       "      <td>170.0 cm</td>\n",
       "      <td>57.0 kg</td>\n",
       "    </tr>\n",
       "    <tr>\n",
       "      <th>462</th>\n",
       "      <td>185.0 cm</td>\n",
       "      <td>81.0 kg</td>\n",
       "    </tr>\n",
       "  </tbody>\n",
       "</table>\n",
       "<p>463 rows × 2 columns</p>\n",
       "</div>"
      ],
      "text/plain": [
       "       Height    Weight\n",
       "0    203.0 cm  441.0 kg\n",
       "1    191.0 cm   65.0 kg\n",
       "2    185.0 cm   90.0 kg\n",
       "3    203.0 cm  441.0 kg\n",
       "4    193.0 cm  122.0 kg\n",
       "..        ...       ...\n",
       "458  183.0 cm   83.0 kg\n",
       "459  165.0 cm   52.0 kg\n",
       "460   66.0 cm   17.0 kg\n",
       "461  170.0 cm   57.0 kg\n",
       "462  185.0 cm   81.0 kg\n",
       "\n",
       "[463 rows x 2 columns]"
      ]
     },
     "execution_count": 22,
     "metadata": {},
     "output_type": "execute_result"
    }
   ],
   "source": [
    "## use .apply pd.Series to convert a dict to columns\n",
    "superheroes['Measurements'].apply(pd.Series)"
   ]
  },
  {
   "cell_type": "code",
   "execution_count": 23,
   "id": "08df5aff",
   "metadata": {},
   "outputs": [
    {
     "data": {
      "text/html": [
       "<div>\n",
       "<style scoped>\n",
       "    .dataframe tbody tr th:only-of-type {\n",
       "        vertical-align: middle;\n",
       "    }\n",
       "\n",
       "    .dataframe tbody tr th {\n",
       "        vertical-align: top;\n",
       "    }\n",
       "\n",
       "    .dataframe thead th {\n",
       "        text-align: right;\n",
       "    }\n",
       "</style>\n",
       "<table border=\"1\" class=\"dataframe\">\n",
       "  <thead>\n",
       "    <tr style=\"text-align: right;\">\n",
       "      <th></th>\n",
       "      <th>Gender</th>\n",
       "      <th>Race</th>\n",
       "      <th>Alignment</th>\n",
       "      <th>Hair color</th>\n",
       "      <th>Eye color</th>\n",
       "      <th>Skin color</th>\n",
       "      <th>hero</th>\n",
       "      <th>Publisher</th>\n",
       "      <th>Powers</th>\n",
       "      <th>Height</th>\n",
       "      <th>Weight</th>\n",
       "    </tr>\n",
       "  </thead>\n",
       "  <tbody>\n",
       "    <tr>\n",
       "      <th>0</th>\n",
       "      <td>Male</td>\n",
       "      <td>Human</td>\n",
       "      <td>good</td>\n",
       "      <td>No Hair</td>\n",
       "      <td>yellow</td>\n",
       "      <td>Unknown</td>\n",
       "      <td>A-Bomb</td>\n",
       "      <td>Marvel Comics</td>\n",
       "      <td>Accelerated Healing,Durability,Longevity,Super...</td>\n",
       "      <td>203.0 cm</td>\n",
       "      <td>441.0 kg</td>\n",
       "    </tr>\n",
       "    <tr>\n",
       "      <th>1</th>\n",
       "      <td>Male</td>\n",
       "      <td>Icthyo Sapien</td>\n",
       "      <td>good</td>\n",
       "      <td>No Hair</td>\n",
       "      <td>blue</td>\n",
       "      <td>blue</td>\n",
       "      <td>Abe Sapien</td>\n",
       "      <td>Dark Horse Comics</td>\n",
       "      <td>Agility,Accelerated Healing,Cold Resistance,Du...</td>\n",
       "      <td>191.0 cm</td>\n",
       "      <td>65.0 kg</td>\n",
       "    </tr>\n",
       "  </tbody>\n",
       "</table>\n",
       "</div>"
      ],
      "text/plain": [
       "  Gender           Race Alignment Hair color Eye color Skin color        hero  \\\n",
       "0   Male          Human      good    No Hair    yellow    Unknown      A-Bomb   \n",
       "1   Male  Icthyo Sapien      good    No Hair      blue       blue  Abe Sapien   \n",
       "\n",
       "           Publisher                                             Powers  \\\n",
       "0      Marvel Comics  Accelerated Healing,Durability,Longevity,Super...   \n",
       "1  Dark Horse Comics  Agility,Accelerated Healing,Cold Resistance,Du...   \n",
       "\n",
       "     Height    Weight  \n",
       "0  203.0 cm  441.0 kg  \n",
       "1  191.0 cm   65.0 kg  "
      ]
     },
     "execution_count": 23,
     "metadata": {},
     "output_type": "execute_result"
    }
   ],
   "source": [
    "## Concatenate the 2 new columns and drop the original.\n",
    "superheroes = pd.concat([superheroes, superheroes['Measurements'].apply(pd.Series)], axis = 1)\n",
    "#drop the 'measurement'colunm\n",
    "superheroes = superheroes.drop(columns = 'Measurements')\n",
    "superheroes.head(2)"
   ]
  },
  {
   "cell_type": "code",
   "execution_count": 24,
   "id": "8b7b3e9a",
   "metadata": {},
   "outputs": [
    {
     "data": {
      "text/plain": [
       "dtype('O')"
      ]
     },
     "execution_count": 24,
     "metadata": {},
     "output_type": "execute_result"
    }
   ],
   "source": [
    "superheroes.dtypes['Weight']"
   ]
  },
  {
   "cell_type": "code",
   "execution_count": 25,
   "id": "3d408913",
   "metadata": {},
   "outputs": [
    {
     "data": {
      "text/plain": [
       "dtype('O')"
      ]
     },
     "execution_count": 25,
     "metadata": {},
     "output_type": "execute_result"
    }
   ],
   "source": [
    "superheroes.dtypes['Height']"
   ]
  },
  {
   "cell_type": "code",
   "execution_count": 26,
   "id": "b9a18700",
   "metadata": {},
   "outputs": [],
   "source": [
    "superheroes['Weight'] = superheroes['Weight'].replace('kg', '')\n"
   ]
  },
  {
   "cell_type": "code",
   "execution_count": 27,
   "id": "cf591d87",
   "metadata": {},
   "outputs": [],
   "source": [
    "superheroes['Height'] = superheroes['Height'].replace('cm', '')\n"
   ]
  },
  {
   "cell_type": "code",
   "execution_count": 28,
   "id": "fd7482a8",
   "metadata": {},
   "outputs": [],
   "source": [
    "# Remove non-numeric characters (e.g., 'kg') and convert to float\n",
    "superheroes['Weight'] = superheroes['Weight'].str.replace(r'[^\\d.]', '', regex=True).astype(float)\n"
   ]
  },
  {
   "cell_type": "code",
   "execution_count": 29,
   "id": "d9220be4",
   "metadata": {},
   "outputs": [],
   "source": [
    "# Remove non-numeric characters (e.g., 'kg') and convert to float\n",
    "superheroes['Height'] = superheroes['Height'].str.replace(r'[^\\d.]', '', regex=True).astype(float)\n",
    "\n"
   ]
  },
  {
   "cell_type": "code",
   "execution_count": 30,
   "id": "3a5eedf0",
   "metadata": {},
   "outputs": [
    {
     "data": {
      "text/plain": [
       "dtype('float64')"
      ]
     },
     "execution_count": 30,
     "metadata": {},
     "output_type": "execute_result"
    }
   ],
   "source": [
    "superheroes.dtypes['Weight']"
   ]
  },
  {
   "cell_type": "code",
   "execution_count": 31,
   "id": "14cbb6fd",
   "metadata": {},
   "outputs": [
    {
     "data": {
      "text/plain": [
       "dtype('float64')"
      ]
     },
     "execution_count": 31,
     "metadata": {},
     "output_type": "execute_result"
    }
   ],
   "source": [
    "superheroes.dtypes['Height']"
   ]
  },
  {
   "cell_type": "code",
   "execution_count": 32,
   "id": "04617b6a",
   "metadata": {
    "scrolled": false
   },
   "outputs": [
    {
     "data": {
      "text/html": [
       "<div>\n",
       "<style scoped>\n",
       "    .dataframe tbody tr th:only-of-type {\n",
       "        vertical-align: middle;\n",
       "    }\n",
       "\n",
       "    .dataframe tbody tr th {\n",
       "        vertical-align: top;\n",
       "    }\n",
       "\n",
       "    .dataframe thead th {\n",
       "        text-align: right;\n",
       "    }\n",
       "</style>\n",
       "<table border=\"1\" class=\"dataframe\">\n",
       "  <thead>\n",
       "    <tr style=\"text-align: right;\">\n",
       "      <th></th>\n",
       "      <th>Gender</th>\n",
       "      <th>Race</th>\n",
       "      <th>Alignment</th>\n",
       "      <th>Hair color</th>\n",
       "      <th>Eye color</th>\n",
       "      <th>Skin color</th>\n",
       "      <th>hero</th>\n",
       "      <th>Publisher</th>\n",
       "      <th>Powers</th>\n",
       "      <th>Height</th>\n",
       "      <th>Weight</th>\n",
       "    </tr>\n",
       "  </thead>\n",
       "  <tbody>\n",
       "    <tr>\n",
       "      <th>0</th>\n",
       "      <td>Male</td>\n",
       "      <td>Human</td>\n",
       "      <td>good</td>\n",
       "      <td>No Hair</td>\n",
       "      <td>yellow</td>\n",
       "      <td>Unknown</td>\n",
       "      <td>A-Bomb</td>\n",
       "      <td>Marvel Comics</td>\n",
       "      <td>Accelerated Healing,Durability,Longevity,Super...</td>\n",
       "      <td>203.0</td>\n",
       "      <td>441.0</td>\n",
       "    </tr>\n",
       "    <tr>\n",
       "      <th>1</th>\n",
       "      <td>Male</td>\n",
       "      <td>Icthyo Sapien</td>\n",
       "      <td>good</td>\n",
       "      <td>No Hair</td>\n",
       "      <td>blue</td>\n",
       "      <td>blue</td>\n",
       "      <td>Abe Sapien</td>\n",
       "      <td>Dark Horse Comics</td>\n",
       "      <td>Agility,Accelerated Healing,Cold Resistance,Du...</td>\n",
       "      <td>191.0</td>\n",
       "      <td>65.0</td>\n",
       "    </tr>\n",
       "  </tbody>\n",
       "</table>\n",
       "</div>"
      ],
      "text/plain": [
       "  Gender           Race Alignment Hair color Eye color Skin color        hero  \\\n",
       "0   Male          Human      good    No Hair    yellow    Unknown      A-Bomb   \n",
       "1   Male  Icthyo Sapien      good    No Hair      blue       blue  Abe Sapien   \n",
       "\n",
       "           Publisher                                             Powers  \\\n",
       "0      Marvel Comics  Accelerated Healing,Durability,Longevity,Super...   \n",
       "1  Dark Horse Comics  Agility,Accelerated Healing,Cold Resistance,Du...   \n",
       "\n",
       "   Height  Weight  \n",
       "0   203.0   441.0  \n",
       "1   191.0    65.0  "
      ]
     },
     "execution_count": 32,
     "metadata": {},
     "output_type": "execute_result"
    }
   ],
   "source": [
    "superheroes.head(2)"
   ]
  },
  {
   "cell_type": "code",
   "execution_count": 33,
   "id": "59f1385b",
   "metadata": {},
   "outputs": [
    {
     "data": {
      "text/plain": [
       "Durability,Super Strength                                                                                                                                                                                                                                                                       4\n",
       "Agility,Stealth,Marksmanship,Weapons Master,Stamina                                                                                                                                                                                                                                             4\n",
       "Intelligence                                                                                                                                                                                                                                                                                    4\n",
       "Agility,Accelerated Healing,Durability,Stealth,Danger Sense,Marksmanship,Animal Attributes,Super Strength,Stamina,Super Speed,Animal Oriented Powers,Enhanced Senses,Jump,Reflexes,Substance Secretion,Natural Weapons,Toxin and Disease Resistance,Wallcrawling,Vision - Night,Web Creation    3\n",
       "Weapon-based Powers                                                                                                                                                                                                                                                                             3\n",
       "                                                                                                                                                                                                                                                                                               ..\n",
       "Agility,Accelerated Healing,Super Strength,Super Speed,Animal Oriented Powers,Enhanced Senses,Jump,Reflexes,Natural Weapons                                                                                                                                                                     1\n",
       "Flight,Telepathy,Animal Oriented Powers,Gliding                                                                                                                                                                                                                                                 1\n",
       "Power Augmentation                                                                                                                                                                                                                                                                              1\n",
       "Accelerated Healing,Flight,Telepathy,Energy Blasts,Teleportation,Telekinesis,Astral Projection,Psionic Powers,Mind Blast,Regeneration,Illusions,Resurrection                                                                                                                                    1\n",
       "Super Speed,Intangibility,Time Travel,Time Manipulation                                                                                                                                                                                                                                         1\n",
       "Name: Powers, Length: 433, dtype: int64"
      ]
     },
     "execution_count": 33,
     "metadata": {},
     "output_type": "execute_result"
    }
   ],
   "source": [
    "superheroes['Powers'].value_counts()"
   ]
  },
  {
   "cell_type": "code",
   "execution_count": 34,
   "id": "19331030",
   "metadata": {},
   "outputs": [
    {
     "data": {
      "text/html": [
       "<div>\n",
       "<style scoped>\n",
       "    .dataframe tbody tr th:only-of-type {\n",
       "        vertical-align: middle;\n",
       "    }\n",
       "\n",
       "    .dataframe tbody tr th {\n",
       "        vertical-align: top;\n",
       "    }\n",
       "\n",
       "    .dataframe thead th {\n",
       "        text-align: right;\n",
       "    }\n",
       "</style>\n",
       "<table border=\"1\" class=\"dataframe\">\n",
       "  <thead>\n",
       "    <tr style=\"text-align: right;\">\n",
       "      <th></th>\n",
       "      <th>hero</th>\n",
       "      <th>Powers</th>\n",
       "    </tr>\n",
       "  </thead>\n",
       "  <tbody>\n",
       "    <tr>\n",
       "      <th>0</th>\n",
       "      <td>A-Bomb</td>\n",
       "      <td>Accelerated Healing,Durability,Longevity,Super...</td>\n",
       "    </tr>\n",
       "    <tr>\n",
       "      <th>1</th>\n",
       "      <td>Abe Sapien</td>\n",
       "      <td>Agility,Accelerated Healing,Cold Resistance,Du...</td>\n",
       "    </tr>\n",
       "    <tr>\n",
       "      <th>2</th>\n",
       "      <td>Abin Sur</td>\n",
       "      <td>Lantern Power Ring</td>\n",
       "    </tr>\n",
       "    <tr>\n",
       "      <th>3</th>\n",
       "      <td>Abomination</td>\n",
       "      <td>Accelerated Healing,Intelligence,Super Strengt...</td>\n",
       "    </tr>\n",
       "    <tr>\n",
       "      <th>4</th>\n",
       "      <td>Absorbing Man</td>\n",
       "      <td>Cold Resistance,Durability,Energy Absorption,S...</td>\n",
       "    </tr>\n",
       "  </tbody>\n",
       "</table>\n",
       "</div>"
      ],
      "text/plain": [
       "            hero                                             Powers\n",
       "0         A-Bomb  Accelerated Healing,Durability,Longevity,Super...\n",
       "1     Abe Sapien  Agility,Accelerated Healing,Cold Resistance,Du...\n",
       "2       Abin Sur                                 Lantern Power Ring\n",
       "3    Abomination  Accelerated Healing,Intelligence,Super Strengt...\n",
       "4  Absorbing Man  Cold Resistance,Durability,Energy Absorption,S..."
      ]
     },
     "execution_count": 34,
     "metadata": {},
     "output_type": "execute_result"
    }
   ],
   "source": [
    "# Converting transactions column into a one-hot-encoded column\n",
    "exploded = superheroes.explode('Powers')\n",
    "exploded[['hero', 'Powers']].head()"
   ]
  },
  {
   "cell_type": "code",
   "execution_count": 35,
   "id": "c4dbf41a",
   "metadata": {},
   "outputs": [],
   "source": [
    "# Step 1: Replace NaN values with an empty string\n",
    "superheroes['Powers'].fillna('', inplace=True)"
   ]
  },
  {
   "cell_type": "code",
   "execution_count": 36,
   "id": "1218454d",
   "metadata": {},
   "outputs": [],
   "source": [
    "# Step 1: Split the 'Powers' column into lists of powers\n",
    "superheroes['Powers'] = superheroes['Powers'].str.split(',')"
   ]
  },
  {
   "cell_type": "code",
   "execution_count": 37,
   "id": "f9c45bf6",
   "metadata": {},
   "outputs": [],
   "source": [
    "#Create a set of unique powers\n",
    "all_powers = set()\n",
    "for powers_list in superheroes['Powers']:\n",
    "    all_powers.update(powers_list)"
   ]
  },
  {
   "cell_type": "code",
   "execution_count": 38,
   "id": "28a389b0",
   "metadata": {},
   "outputs": [
    {
     "name": "stderr",
     "output_type": "stream",
     "text": [
      "C:\\Users\\lidiv\\AppData\\Local\\Temp\\ipykernel_17332\\2880677313.py:4: PerformanceWarning: DataFrame is highly fragmented.  This is usually the result of calling `frame.insert` many times, which has poor performance.  Consider joining all columns at once using pd.concat(axis=1) instead. To get a de-fragmented frame, use `newframe = frame.copy()`\n",
      "  encoded_powers[power] = superheroes['Powers'].apply(lambda x: 1 if power in x else 0)\n",
      "C:\\Users\\lidiv\\AppData\\Local\\Temp\\ipykernel_17332\\2880677313.py:4: PerformanceWarning: DataFrame is highly fragmented.  This is usually the result of calling `frame.insert` many times, which has poor performance.  Consider joining all columns at once using pd.concat(axis=1) instead. To get a de-fragmented frame, use `newframe = frame.copy()`\n",
      "  encoded_powers[power] = superheroes['Powers'].apply(lambda x: 1 if power in x else 0)\n",
      "C:\\Users\\lidiv\\AppData\\Local\\Temp\\ipykernel_17332\\2880677313.py:4: PerformanceWarning: DataFrame is highly fragmented.  This is usually the result of calling `frame.insert` many times, which has poor performance.  Consider joining all columns at once using pd.concat(axis=1) instead. To get a de-fragmented frame, use `newframe = frame.copy()`\n",
      "  encoded_powers[power] = superheroes['Powers'].apply(lambda x: 1 if power in x else 0)\n",
      "C:\\Users\\lidiv\\AppData\\Local\\Temp\\ipykernel_17332\\2880677313.py:4: PerformanceWarning: DataFrame is highly fragmented.  This is usually the result of calling `frame.insert` many times, which has poor performance.  Consider joining all columns at once using pd.concat(axis=1) instead. To get a de-fragmented frame, use `newframe = frame.copy()`\n",
      "  encoded_powers[power] = superheroes['Powers'].apply(lambda x: 1 if power in x else 0)\n",
      "C:\\Users\\lidiv\\AppData\\Local\\Temp\\ipykernel_17332\\2880677313.py:4: PerformanceWarning: DataFrame is highly fragmented.  This is usually the result of calling `frame.insert` many times, which has poor performance.  Consider joining all columns at once using pd.concat(axis=1) instead. To get a de-fragmented frame, use `newframe = frame.copy()`\n",
      "  encoded_powers[power] = superheroes['Powers'].apply(lambda x: 1 if power in x else 0)\n",
      "C:\\Users\\lidiv\\AppData\\Local\\Temp\\ipykernel_17332\\2880677313.py:4: PerformanceWarning: DataFrame is highly fragmented.  This is usually the result of calling `frame.insert` many times, which has poor performance.  Consider joining all columns at once using pd.concat(axis=1) instead. To get a de-fragmented frame, use `newframe = frame.copy()`\n",
      "  encoded_powers[power] = superheroes['Powers'].apply(lambda x: 1 if power in x else 0)\n",
      "C:\\Users\\lidiv\\AppData\\Local\\Temp\\ipykernel_17332\\2880677313.py:4: PerformanceWarning: DataFrame is highly fragmented.  This is usually the result of calling `frame.insert` many times, which has poor performance.  Consider joining all columns at once using pd.concat(axis=1) instead. To get a de-fragmented frame, use `newframe = frame.copy()`\n",
      "  encoded_powers[power] = superheroes['Powers'].apply(lambda x: 1 if power in x else 0)\n",
      "C:\\Users\\lidiv\\AppData\\Local\\Temp\\ipykernel_17332\\2880677313.py:4: PerformanceWarning: DataFrame is highly fragmented.  This is usually the result of calling `frame.insert` many times, which has poor performance.  Consider joining all columns at once using pd.concat(axis=1) instead. To get a de-fragmented frame, use `newframe = frame.copy()`\n",
      "  encoded_powers[power] = superheroes['Powers'].apply(lambda x: 1 if power in x else 0)\n",
      "C:\\Users\\lidiv\\AppData\\Local\\Temp\\ipykernel_17332\\2880677313.py:4: PerformanceWarning: DataFrame is highly fragmented.  This is usually the result of calling `frame.insert` many times, which has poor performance.  Consider joining all columns at once using pd.concat(axis=1) instead. To get a de-fragmented frame, use `newframe = frame.copy()`\n",
      "  encoded_powers[power] = superheroes['Powers'].apply(lambda x: 1 if power in x else 0)\n",
      "C:\\Users\\lidiv\\AppData\\Local\\Temp\\ipykernel_17332\\2880677313.py:4: PerformanceWarning: DataFrame is highly fragmented.  This is usually the result of calling `frame.insert` many times, which has poor performance.  Consider joining all columns at once using pd.concat(axis=1) instead. To get a de-fragmented frame, use `newframe = frame.copy()`\n",
      "  encoded_powers[power] = superheroes['Powers'].apply(lambda x: 1 if power in x else 0)\n",
      "C:\\Users\\lidiv\\AppData\\Local\\Temp\\ipykernel_17332\\2880677313.py:4: PerformanceWarning: DataFrame is highly fragmented.  This is usually the result of calling `frame.insert` many times, which has poor performance.  Consider joining all columns at once using pd.concat(axis=1) instead. To get a de-fragmented frame, use `newframe = frame.copy()`\n",
      "  encoded_powers[power] = superheroes['Powers'].apply(lambda x: 1 if power in x else 0)\n",
      "C:\\Users\\lidiv\\AppData\\Local\\Temp\\ipykernel_17332\\2880677313.py:4: PerformanceWarning: DataFrame is highly fragmented.  This is usually the result of calling `frame.insert` many times, which has poor performance.  Consider joining all columns at once using pd.concat(axis=1) instead. To get a de-fragmented frame, use `newframe = frame.copy()`\n",
      "  encoded_powers[power] = superheroes['Powers'].apply(lambda x: 1 if power in x else 0)\n",
      "C:\\Users\\lidiv\\AppData\\Local\\Temp\\ipykernel_17332\\2880677313.py:4: PerformanceWarning: DataFrame is highly fragmented.  This is usually the result of calling `frame.insert` many times, which has poor performance.  Consider joining all columns at once using pd.concat(axis=1) instead. To get a de-fragmented frame, use `newframe = frame.copy()`\n",
      "  encoded_powers[power] = superheroes['Powers'].apply(lambda x: 1 if power in x else 0)\n",
      "C:\\Users\\lidiv\\AppData\\Local\\Temp\\ipykernel_17332\\2880677313.py:4: PerformanceWarning: DataFrame is highly fragmented.  This is usually the result of calling `frame.insert` many times, which has poor performance.  Consider joining all columns at once using pd.concat(axis=1) instead. To get a de-fragmented frame, use `newframe = frame.copy()`\n",
      "  encoded_powers[power] = superheroes['Powers'].apply(lambda x: 1 if power in x else 0)\n",
      "C:\\Users\\lidiv\\AppData\\Local\\Temp\\ipykernel_17332\\2880677313.py:4: PerformanceWarning: DataFrame is highly fragmented.  This is usually the result of calling `frame.insert` many times, which has poor performance.  Consider joining all columns at once using pd.concat(axis=1) instead. To get a de-fragmented frame, use `newframe = frame.copy()`\n",
      "  encoded_powers[power] = superheroes['Powers'].apply(lambda x: 1 if power in x else 0)\n",
      "C:\\Users\\lidiv\\AppData\\Local\\Temp\\ipykernel_17332\\2880677313.py:4: PerformanceWarning: DataFrame is highly fragmented.  This is usually the result of calling `frame.insert` many times, which has poor performance.  Consider joining all columns at once using pd.concat(axis=1) instead. To get a de-fragmented frame, use `newframe = frame.copy()`\n",
      "  encoded_powers[power] = superheroes['Powers'].apply(lambda x: 1 if power in x else 0)\n",
      "C:\\Users\\lidiv\\AppData\\Local\\Temp\\ipykernel_17332\\2880677313.py:4: PerformanceWarning: DataFrame is highly fragmented.  This is usually the result of calling `frame.insert` many times, which has poor performance.  Consider joining all columns at once using pd.concat(axis=1) instead. To get a de-fragmented frame, use `newframe = frame.copy()`\n",
      "  encoded_powers[power] = superheroes['Powers'].apply(lambda x: 1 if power in x else 0)\n",
      "C:\\Users\\lidiv\\AppData\\Local\\Temp\\ipykernel_17332\\2880677313.py:4: PerformanceWarning: DataFrame is highly fragmented.  This is usually the result of calling `frame.insert` many times, which has poor performance.  Consider joining all columns at once using pd.concat(axis=1) instead. To get a de-fragmented frame, use `newframe = frame.copy()`\n",
      "  encoded_powers[power] = superheroes['Powers'].apply(lambda x: 1 if power in x else 0)\n",
      "C:\\Users\\lidiv\\AppData\\Local\\Temp\\ipykernel_17332\\2880677313.py:4: PerformanceWarning: DataFrame is highly fragmented.  This is usually the result of calling `frame.insert` many times, which has poor performance.  Consider joining all columns at once using pd.concat(axis=1) instead. To get a de-fragmented frame, use `newframe = frame.copy()`\n",
      "  encoded_powers[power] = superheroes['Powers'].apply(lambda x: 1 if power in x else 0)\n",
      "C:\\Users\\lidiv\\AppData\\Local\\Temp\\ipykernel_17332\\2880677313.py:4: PerformanceWarning: DataFrame is highly fragmented.  This is usually the result of calling `frame.insert` many times, which has poor performance.  Consider joining all columns at once using pd.concat(axis=1) instead. To get a de-fragmented frame, use `newframe = frame.copy()`\n",
      "  encoded_powers[power] = superheroes['Powers'].apply(lambda x: 1 if power in x else 0)\n",
      "C:\\Users\\lidiv\\AppData\\Local\\Temp\\ipykernel_17332\\2880677313.py:4: PerformanceWarning: DataFrame is highly fragmented.  This is usually the result of calling `frame.insert` many times, which has poor performance.  Consider joining all columns at once using pd.concat(axis=1) instead. To get a de-fragmented frame, use `newframe = frame.copy()`\n",
      "  encoded_powers[power] = superheroes['Powers'].apply(lambda x: 1 if power in x else 0)\n",
      "C:\\Users\\lidiv\\AppData\\Local\\Temp\\ipykernel_17332\\2880677313.py:4: PerformanceWarning: DataFrame is highly fragmented.  This is usually the result of calling `frame.insert` many times, which has poor performance.  Consider joining all columns at once using pd.concat(axis=1) instead. To get a de-fragmented frame, use `newframe = frame.copy()`\n",
      "  encoded_powers[power] = superheroes['Powers'].apply(lambda x: 1 if power in x else 0)\n",
      "C:\\Users\\lidiv\\AppData\\Local\\Temp\\ipykernel_17332\\2880677313.py:4: PerformanceWarning: DataFrame is highly fragmented.  This is usually the result of calling `frame.insert` many times, which has poor performance.  Consider joining all columns at once using pd.concat(axis=1) instead. To get a de-fragmented frame, use `newframe = frame.copy()`\n",
      "  encoded_powers[power] = superheroes['Powers'].apply(lambda x: 1 if power in x else 0)\n",
      "C:\\Users\\lidiv\\AppData\\Local\\Temp\\ipykernel_17332\\2880677313.py:4: PerformanceWarning: DataFrame is highly fragmented.  This is usually the result of calling `frame.insert` many times, which has poor performance.  Consider joining all columns at once using pd.concat(axis=1) instead. To get a de-fragmented frame, use `newframe = frame.copy()`\n",
      "  encoded_powers[power] = superheroes['Powers'].apply(lambda x: 1 if power in x else 0)\n",
      "C:\\Users\\lidiv\\AppData\\Local\\Temp\\ipykernel_17332\\2880677313.py:4: PerformanceWarning: DataFrame is highly fragmented.  This is usually the result of calling `frame.insert` many times, which has poor performance.  Consider joining all columns at once using pd.concat(axis=1) instead. To get a de-fragmented frame, use `newframe = frame.copy()`\n",
      "  encoded_powers[power] = superheroes['Powers'].apply(lambda x: 1 if power in x else 0)\n",
      "C:\\Users\\lidiv\\AppData\\Local\\Temp\\ipykernel_17332\\2880677313.py:4: PerformanceWarning: DataFrame is highly fragmented.  This is usually the result of calling `frame.insert` many times, which has poor performance.  Consider joining all columns at once using pd.concat(axis=1) instead. To get a de-fragmented frame, use `newframe = frame.copy()`\n",
      "  encoded_powers[power] = superheroes['Powers'].apply(lambda x: 1 if power in x else 0)\n",
      "C:\\Users\\lidiv\\AppData\\Local\\Temp\\ipykernel_17332\\2880677313.py:4: PerformanceWarning: DataFrame is highly fragmented.  This is usually the result of calling `frame.insert` many times, which has poor performance.  Consider joining all columns at once using pd.concat(axis=1) instead. To get a de-fragmented frame, use `newframe = frame.copy()`\n",
      "  encoded_powers[power] = superheroes['Powers'].apply(lambda x: 1 if power in x else 0)\n",
      "C:\\Users\\lidiv\\AppData\\Local\\Temp\\ipykernel_17332\\2880677313.py:4: PerformanceWarning: DataFrame is highly fragmented.  This is usually the result of calling `frame.insert` many times, which has poor performance.  Consider joining all columns at once using pd.concat(axis=1) instead. To get a de-fragmented frame, use `newframe = frame.copy()`\n",
      "  encoded_powers[power] = superheroes['Powers'].apply(lambda x: 1 if power in x else 0)\n",
      "C:\\Users\\lidiv\\AppData\\Local\\Temp\\ipykernel_17332\\2880677313.py:4: PerformanceWarning: DataFrame is highly fragmented.  This is usually the result of calling `frame.insert` many times, which has poor performance.  Consider joining all columns at once using pd.concat(axis=1) instead. To get a de-fragmented frame, use `newframe = frame.copy()`\n",
      "  encoded_powers[power] = superheroes['Powers'].apply(lambda x: 1 if power in x else 0)\n",
      "C:\\Users\\lidiv\\AppData\\Local\\Temp\\ipykernel_17332\\2880677313.py:4: PerformanceWarning: DataFrame is highly fragmented.  This is usually the result of calling `frame.insert` many times, which has poor performance.  Consider joining all columns at once using pd.concat(axis=1) instead. To get a de-fragmented frame, use `newframe = frame.copy()`\n",
      "  encoded_powers[power] = superheroes['Powers'].apply(lambda x: 1 if power in x else 0)\n",
      "C:\\Users\\lidiv\\AppData\\Local\\Temp\\ipykernel_17332\\2880677313.py:4: PerformanceWarning: DataFrame is highly fragmented.  This is usually the result of calling `frame.insert` many times, which has poor performance.  Consider joining all columns at once using pd.concat(axis=1) instead. To get a de-fragmented frame, use `newframe = frame.copy()`\n",
      "  encoded_powers[power] = superheroes['Powers'].apply(lambda x: 1 if power in x else 0)\n",
      "C:\\Users\\lidiv\\AppData\\Local\\Temp\\ipykernel_17332\\2880677313.py:4: PerformanceWarning: DataFrame is highly fragmented.  This is usually the result of calling `frame.insert` many times, which has poor performance.  Consider joining all columns at once using pd.concat(axis=1) instead. To get a de-fragmented frame, use `newframe = frame.copy()`\n",
      "  encoded_powers[power] = superheroes['Powers'].apply(lambda x: 1 if power in x else 0)\n",
      "C:\\Users\\lidiv\\AppData\\Local\\Temp\\ipykernel_17332\\2880677313.py:4: PerformanceWarning: DataFrame is highly fragmented.  This is usually the result of calling `frame.insert` many times, which has poor performance.  Consider joining all columns at once using pd.concat(axis=1) instead. To get a de-fragmented frame, use `newframe = frame.copy()`\n",
      "  encoded_powers[power] = superheroes['Powers'].apply(lambda x: 1 if power in x else 0)\n",
      "C:\\Users\\lidiv\\AppData\\Local\\Temp\\ipykernel_17332\\2880677313.py:4: PerformanceWarning: DataFrame is highly fragmented.  This is usually the result of calling `frame.insert` many times, which has poor performance.  Consider joining all columns at once using pd.concat(axis=1) instead. To get a de-fragmented frame, use `newframe = frame.copy()`\n",
      "  encoded_powers[power] = superheroes['Powers'].apply(lambda x: 1 if power in x else 0)\n",
      "C:\\Users\\lidiv\\AppData\\Local\\Temp\\ipykernel_17332\\2880677313.py:4: PerformanceWarning: DataFrame is highly fragmented.  This is usually the result of calling `frame.insert` many times, which has poor performance.  Consider joining all columns at once using pd.concat(axis=1) instead. To get a de-fragmented frame, use `newframe = frame.copy()`\n",
      "  encoded_powers[power] = superheroes['Powers'].apply(lambda x: 1 if power in x else 0)\n",
      "C:\\Users\\lidiv\\AppData\\Local\\Temp\\ipykernel_17332\\2880677313.py:4: PerformanceWarning: DataFrame is highly fragmented.  This is usually the result of calling `frame.insert` many times, which has poor performance.  Consider joining all columns at once using pd.concat(axis=1) instead. To get a de-fragmented frame, use `newframe = frame.copy()`\n",
      "  encoded_powers[power] = superheroes['Powers'].apply(lambda x: 1 if power in x else 0)\n",
      "C:\\Users\\lidiv\\AppData\\Local\\Temp\\ipykernel_17332\\2880677313.py:4: PerformanceWarning: DataFrame is highly fragmented.  This is usually the result of calling `frame.insert` many times, which has poor performance.  Consider joining all columns at once using pd.concat(axis=1) instead. To get a de-fragmented frame, use `newframe = frame.copy()`\n",
      "  encoded_powers[power] = superheroes['Powers'].apply(lambda x: 1 if power in x else 0)\n",
      "C:\\Users\\lidiv\\AppData\\Local\\Temp\\ipykernel_17332\\2880677313.py:4: PerformanceWarning: DataFrame is highly fragmented.  This is usually the result of calling `frame.insert` many times, which has poor performance.  Consider joining all columns at once using pd.concat(axis=1) instead. To get a de-fragmented frame, use `newframe = frame.copy()`\n",
      "  encoded_powers[power] = superheroes['Powers'].apply(lambda x: 1 if power in x else 0)\n",
      "C:\\Users\\lidiv\\AppData\\Local\\Temp\\ipykernel_17332\\2880677313.py:4: PerformanceWarning: DataFrame is highly fragmented.  This is usually the result of calling `frame.insert` many times, which has poor performance.  Consider joining all columns at once using pd.concat(axis=1) instead. To get a de-fragmented frame, use `newframe = frame.copy()`\n",
      "  encoded_powers[power] = superheroes['Powers'].apply(lambda x: 1 if power in x else 0)\n",
      "C:\\Users\\lidiv\\AppData\\Local\\Temp\\ipykernel_17332\\2880677313.py:4: PerformanceWarning: DataFrame is highly fragmented.  This is usually the result of calling `frame.insert` many times, which has poor performance.  Consider joining all columns at once using pd.concat(axis=1) instead. To get a de-fragmented frame, use `newframe = frame.copy()`\n",
      "  encoded_powers[power] = superheroes['Powers'].apply(lambda x: 1 if power in x else 0)\n",
      "C:\\Users\\lidiv\\AppData\\Local\\Temp\\ipykernel_17332\\2880677313.py:4: PerformanceWarning: DataFrame is highly fragmented.  This is usually the result of calling `frame.insert` many times, which has poor performance.  Consider joining all columns at once using pd.concat(axis=1) instead. To get a de-fragmented frame, use `newframe = frame.copy()`\n",
      "  encoded_powers[power] = superheroes['Powers'].apply(lambda x: 1 if power in x else 0)\n",
      "C:\\Users\\lidiv\\AppData\\Local\\Temp\\ipykernel_17332\\2880677313.py:4: PerformanceWarning: DataFrame is highly fragmented.  This is usually the result of calling `frame.insert` many times, which has poor performance.  Consider joining all columns at once using pd.concat(axis=1) instead. To get a de-fragmented frame, use `newframe = frame.copy()`\n",
      "  encoded_powers[power] = superheroes['Powers'].apply(lambda x: 1 if power in x else 0)\n",
      "C:\\Users\\lidiv\\AppData\\Local\\Temp\\ipykernel_17332\\2880677313.py:4: PerformanceWarning: DataFrame is highly fragmented.  This is usually the result of calling `frame.insert` many times, which has poor performance.  Consider joining all columns at once using pd.concat(axis=1) instead. To get a de-fragmented frame, use `newframe = frame.copy()`\n",
      "  encoded_powers[power] = superheroes['Powers'].apply(lambda x: 1 if power in x else 0)\n",
      "C:\\Users\\lidiv\\AppData\\Local\\Temp\\ipykernel_17332\\2880677313.py:4: PerformanceWarning: DataFrame is highly fragmented.  This is usually the result of calling `frame.insert` many times, which has poor performance.  Consider joining all columns at once using pd.concat(axis=1) instead. To get a de-fragmented frame, use `newframe = frame.copy()`\n",
      "  encoded_powers[power] = superheroes['Powers'].apply(lambda x: 1 if power in x else 0)\n",
      "C:\\Users\\lidiv\\AppData\\Local\\Temp\\ipykernel_17332\\2880677313.py:4: PerformanceWarning: DataFrame is highly fragmented.  This is usually the result of calling `frame.insert` many times, which has poor performance.  Consider joining all columns at once using pd.concat(axis=1) instead. To get a de-fragmented frame, use `newframe = frame.copy()`\n",
      "  encoded_powers[power] = superheroes['Powers'].apply(lambda x: 1 if power in x else 0)\n",
      "C:\\Users\\lidiv\\AppData\\Local\\Temp\\ipykernel_17332\\2880677313.py:4: PerformanceWarning: DataFrame is highly fragmented.  This is usually the result of calling `frame.insert` many times, which has poor performance.  Consider joining all columns at once using pd.concat(axis=1) instead. To get a de-fragmented frame, use `newframe = frame.copy()`\n",
      "  encoded_powers[power] = superheroes['Powers'].apply(lambda x: 1 if power in x else 0)\n",
      "C:\\Users\\lidiv\\AppData\\Local\\Temp\\ipykernel_17332\\2880677313.py:4: PerformanceWarning: DataFrame is highly fragmented.  This is usually the result of calling `frame.insert` many times, which has poor performance.  Consider joining all columns at once using pd.concat(axis=1) instead. To get a de-fragmented frame, use `newframe = frame.copy()`\n",
      "  encoded_powers[power] = superheroes['Powers'].apply(lambda x: 1 if power in x else 0)\n",
      "C:\\Users\\lidiv\\AppData\\Local\\Temp\\ipykernel_17332\\2880677313.py:4: PerformanceWarning: DataFrame is highly fragmented.  This is usually the result of calling `frame.insert` many times, which has poor performance.  Consider joining all columns at once using pd.concat(axis=1) instead. To get a de-fragmented frame, use `newframe = frame.copy()`\n",
      "  encoded_powers[power] = superheroes['Powers'].apply(lambda x: 1 if power in x else 0)\n",
      "C:\\Users\\lidiv\\AppData\\Local\\Temp\\ipykernel_17332\\2880677313.py:4: PerformanceWarning: DataFrame is highly fragmented.  This is usually the result of calling `frame.insert` many times, which has poor performance.  Consider joining all columns at once using pd.concat(axis=1) instead. To get a de-fragmented frame, use `newframe = frame.copy()`\n",
      "  encoded_powers[power] = superheroes['Powers'].apply(lambda x: 1 if power in x else 0)\n",
      "C:\\Users\\lidiv\\AppData\\Local\\Temp\\ipykernel_17332\\2880677313.py:4: PerformanceWarning: DataFrame is highly fragmented.  This is usually the result of calling `frame.insert` many times, which has poor performance.  Consider joining all columns at once using pd.concat(axis=1) instead. To get a de-fragmented frame, use `newframe = frame.copy()`\n",
      "  encoded_powers[power] = superheroes['Powers'].apply(lambda x: 1 if power in x else 0)\n",
      "C:\\Users\\lidiv\\AppData\\Local\\Temp\\ipykernel_17332\\2880677313.py:4: PerformanceWarning: DataFrame is highly fragmented.  This is usually the result of calling `frame.insert` many times, which has poor performance.  Consider joining all columns at once using pd.concat(axis=1) instead. To get a de-fragmented frame, use `newframe = frame.copy()`\n",
      "  encoded_powers[power] = superheroes['Powers'].apply(lambda x: 1 if power in x else 0)\n",
      "C:\\Users\\lidiv\\AppData\\Local\\Temp\\ipykernel_17332\\2880677313.py:4: PerformanceWarning: DataFrame is highly fragmented.  This is usually the result of calling `frame.insert` many times, which has poor performance.  Consider joining all columns at once using pd.concat(axis=1) instead. To get a de-fragmented frame, use `newframe = frame.copy()`\n",
      "  encoded_powers[power] = superheroes['Powers'].apply(lambda x: 1 if power in x else 0)\n",
      "C:\\Users\\lidiv\\AppData\\Local\\Temp\\ipykernel_17332\\2880677313.py:4: PerformanceWarning: DataFrame is highly fragmented.  This is usually the result of calling `frame.insert` many times, which has poor performance.  Consider joining all columns at once using pd.concat(axis=1) instead. To get a de-fragmented frame, use `newframe = frame.copy()`\n",
      "  encoded_powers[power] = superheroes['Powers'].apply(lambda x: 1 if power in x else 0)\n",
      "C:\\Users\\lidiv\\AppData\\Local\\Temp\\ipykernel_17332\\2880677313.py:4: PerformanceWarning: DataFrame is highly fragmented.  This is usually the result of calling `frame.insert` many times, which has poor performance.  Consider joining all columns at once using pd.concat(axis=1) instead. To get a de-fragmented frame, use `newframe = frame.copy()`\n",
      "  encoded_powers[power] = superheroes['Powers'].apply(lambda x: 1 if power in x else 0)\n",
      "C:\\Users\\lidiv\\AppData\\Local\\Temp\\ipykernel_17332\\2880677313.py:4: PerformanceWarning: DataFrame is highly fragmented.  This is usually the result of calling `frame.insert` many times, which has poor performance.  Consider joining all columns at once using pd.concat(axis=1) instead. To get a de-fragmented frame, use `newframe = frame.copy()`\n",
      "  encoded_powers[power] = superheroes['Powers'].apply(lambda x: 1 if power in x else 0)\n",
      "C:\\Users\\lidiv\\AppData\\Local\\Temp\\ipykernel_17332\\2880677313.py:4: PerformanceWarning: DataFrame is highly fragmented.  This is usually the result of calling `frame.insert` many times, which has poor performance.  Consider joining all columns at once using pd.concat(axis=1) instead. To get a de-fragmented frame, use `newframe = frame.copy()`\n",
      "  encoded_powers[power] = superheroes['Powers'].apply(lambda x: 1 if power in x else 0)\n",
      "C:\\Users\\lidiv\\AppData\\Local\\Temp\\ipykernel_17332\\2880677313.py:4: PerformanceWarning: DataFrame is highly fragmented.  This is usually the result of calling `frame.insert` many times, which has poor performance.  Consider joining all columns at once using pd.concat(axis=1) instead. To get a de-fragmented frame, use `newframe = frame.copy()`\n",
      "  encoded_powers[power] = superheroes['Powers'].apply(lambda x: 1 if power in x else 0)\n",
      "C:\\Users\\lidiv\\AppData\\Local\\Temp\\ipykernel_17332\\2880677313.py:4: PerformanceWarning: DataFrame is highly fragmented.  This is usually the result of calling `frame.insert` many times, which has poor performance.  Consider joining all columns at once using pd.concat(axis=1) instead. To get a de-fragmented frame, use `newframe = frame.copy()`\n",
      "  encoded_powers[power] = superheroes['Powers'].apply(lambda x: 1 if power in x else 0)\n",
      "C:\\Users\\lidiv\\AppData\\Local\\Temp\\ipykernel_17332\\2880677313.py:4: PerformanceWarning: DataFrame is highly fragmented.  This is usually the result of calling `frame.insert` many times, which has poor performance.  Consider joining all columns at once using pd.concat(axis=1) instead. To get a de-fragmented frame, use `newframe = frame.copy()`\n",
      "  encoded_powers[power] = superheroes['Powers'].apply(lambda x: 1 if power in x else 0)\n"
     ]
    }
   ],
   "source": [
    "#  Create a DataFrame with one-hot-encoded columns\n",
    "encoded_powers = pd.DataFrame()\n",
    "for power in all_powers:\n",
    "    encoded_powers[power] = superheroes['Powers'].apply(lambda x: 1 if power in x else 0)"
   ]
  },
  {
   "cell_type": "code",
   "execution_count": 39,
   "id": "38beac3e",
   "metadata": {},
   "outputs": [],
   "source": [
    "#  Concatenate the one-hot-encoded DataFrame with the original DataFrame\n",
    "superheroes = pd.concat([superheroes, encoded_powers], axis=1)"
   ]
  },
  {
   "cell_type": "code",
   "execution_count": 40,
   "id": "33028123",
   "metadata": {},
   "outputs": [],
   "source": [
    "#  Drop the original 'Powers' column\n",
    "superheroes.drop(columns=['Powers'], inplace=True)"
   ]
  },
  {
   "cell_type": "code",
   "execution_count": 41,
   "id": "d120f2ff",
   "metadata": {},
   "outputs": [
    {
     "data": {
      "text/html": [
       "<div>\n",
       "<style scoped>\n",
       "    .dataframe tbody tr th:only-of-type {\n",
       "        vertical-align: middle;\n",
       "    }\n",
       "\n",
       "    .dataframe tbody tr th {\n",
       "        vertical-align: top;\n",
       "    }\n",
       "\n",
       "    .dataframe thead th {\n",
       "        text-align: right;\n",
       "    }\n",
       "</style>\n",
       "<table border=\"1\" class=\"dataframe\">\n",
       "  <thead>\n",
       "    <tr style=\"text-align: right;\">\n",
       "      <th></th>\n",
       "      <th>Gender</th>\n",
       "      <th>Race</th>\n",
       "      <th>Alignment</th>\n",
       "      <th>Hair color</th>\n",
       "      <th>Eye color</th>\n",
       "      <th>Skin color</th>\n",
       "      <th>hero</th>\n",
       "      <th>Publisher</th>\n",
       "      <th>Height</th>\n",
       "      <th>Weight</th>\n",
       "      <th>...</th>\n",
       "      <th>Super Speed</th>\n",
       "      <th>Substance Secretion</th>\n",
       "      <th>Magnetism</th>\n",
       "      <th>Telekinesis</th>\n",
       "      <th>Vision - Infrared</th>\n",
       "      <th>Biokinesis</th>\n",
       "      <th>Sub-Mariner</th>\n",
       "      <th>Natural Weapons</th>\n",
       "      <th>Enhanced Memory</th>\n",
       "      <th>Energy Constructs</th>\n",
       "    </tr>\n",
       "  </thead>\n",
       "  <tbody>\n",
       "    <tr>\n",
       "      <th>0</th>\n",
       "      <td>Male</td>\n",
       "      <td>Human</td>\n",
       "      <td>good</td>\n",
       "      <td>No Hair</td>\n",
       "      <td>yellow</td>\n",
       "      <td>Unknown</td>\n",
       "      <td>A-Bomb</td>\n",
       "      <td>Marvel Comics</td>\n",
       "      <td>203.0</td>\n",
       "      <td>441.0</td>\n",
       "      <td>...</td>\n",
       "      <td>0</td>\n",
       "      <td>0</td>\n",
       "      <td>0</td>\n",
       "      <td>0</td>\n",
       "      <td>0</td>\n",
       "      <td>0</td>\n",
       "      <td>0</td>\n",
       "      <td>0</td>\n",
       "      <td>0</td>\n",
       "      <td>0</td>\n",
       "    </tr>\n",
       "    <tr>\n",
       "      <th>1</th>\n",
       "      <td>Male</td>\n",
       "      <td>Icthyo Sapien</td>\n",
       "      <td>good</td>\n",
       "      <td>No Hair</td>\n",
       "      <td>blue</td>\n",
       "      <td>blue</td>\n",
       "      <td>Abe Sapien</td>\n",
       "      <td>Dark Horse Comics</td>\n",
       "      <td>191.0</td>\n",
       "      <td>65.0</td>\n",
       "      <td>...</td>\n",
       "      <td>0</td>\n",
       "      <td>0</td>\n",
       "      <td>0</td>\n",
       "      <td>0</td>\n",
       "      <td>0</td>\n",
       "      <td>0</td>\n",
       "      <td>1</td>\n",
       "      <td>0</td>\n",
       "      <td>0</td>\n",
       "      <td>0</td>\n",
       "    </tr>\n",
       "  </tbody>\n",
       "</table>\n",
       "<p>2 rows × 169 columns</p>\n",
       "</div>"
      ],
      "text/plain": [
       "  Gender           Race Alignment Hair color Eye color Skin color        hero  \\\n",
       "0   Male          Human      good    No Hair    yellow    Unknown      A-Bomb   \n",
       "1   Male  Icthyo Sapien      good    No Hair      blue       blue  Abe Sapien   \n",
       "\n",
       "           Publisher  Height  Weight  ...  Super Speed  Substance Secretion  \\\n",
       "0      Marvel Comics   203.0   441.0  ...            0                    0   \n",
       "1  Dark Horse Comics   191.0    65.0  ...            0                    0   \n",
       "\n",
       "   Magnetism  Telekinesis  Vision - Infrared  Biokinesis  Sub-Mariner  \\\n",
       "0          0            0                  0           0            0   \n",
       "1          0            0                  0           0            1   \n",
       "\n",
       "   Natural Weapons  Enhanced Memory  Energy Constructs  \n",
       "0                0                0                  0  \n",
       "1                0                0                  0  \n",
       "\n",
       "[2 rows x 169 columns]"
      ]
     },
     "execution_count": 41,
     "metadata": {},
     "output_type": "execute_result"
    }
   ],
   "source": [
    "superheroes.head(2)"
   ]
  },
  {
   "cell_type": "code",
   "execution_count": 46,
   "id": "2d7c359f",
   "metadata": {},
   "outputs": [],
   "source": [
    "# Filter superheroes with and without Super Speed\n",
    "superheroes_with_super_speed = superheroes[superheroes['Super Speed'] == 1]\n",
    "superheroes_without_super_speed = superheroes[superheroes['Super Speed'] == 0]"
   ]
  },
  {
   "cell_type": "code",
   "execution_count": 50,
   "id": "1bc347c6",
   "metadata": {},
   "outputs": [],
   "source": [
    "# Calculate the average weight for heroes with and without Super Speed\n",
    "avg_weight_with_super_speed = superheroes[superheroes['hero'].isin(superheroes_with_super_speed['hero'])]['Weight'].mean()\n",
    "avg_weight_without_super_speed = superheroes[superheroes['hero'].isin(superheroes_without_super_speed['hero'])]['Weight'].mean()"
   ]
  },
  {
   "cell_type": "code",
   "execution_count": 51,
   "id": "87bfae44",
   "metadata": {},
   "outputs": [
    {
     "data": {
      "text/plain": [
       "129.40404040404042"
      ]
     },
     "execution_count": 51,
     "metadata": {},
     "output_type": "execute_result"
    }
   ],
   "source": [
    "avg_weight_with_super_speed"
   ]
  },
  {
   "cell_type": "code",
   "execution_count": 52,
   "id": "d38895ab",
   "metadata": {},
   "outputs": [
    {
     "data": {
      "text/plain": [
       "101.77358490566037"
      ]
     },
     "execution_count": 52,
     "metadata": {},
     "output_type": "execute_result"
    }
   ],
   "source": [
    "avg_weight_without_super_speed"
   ]
  },
  {
   "cell_type": "markdown",
   "id": "697042c7",
   "metadata": {},
   "source": [
    "the hero with super speed have weigh bigger than hero without superspeed "
   ]
  },
  {
   "cell_type": "code",
   "execution_count": 54,
   "id": "15780691",
   "metadata": {},
   "outputs": [],
   "source": [
    "# Calculate the average height of heroes for each publisher\n",
    "avg_height_by_publisher = superheroes.groupby('Publisher')['Height'].mean()"
   ]
  },
  {
   "cell_type": "code",
   "execution_count": 55,
   "id": "eb3bed34",
   "metadata": {},
   "outputs": [
    {
     "name": "stdout",
     "output_type": "stream",
     "text": [
      "Average height of heroes by publisher:\n",
      "Publisher\n",
      "DC Comics            181.923913\n",
      "Dark Horse Comics    176.909091\n",
      "George Lucas         159.600000\n",
      "Image Comics         211.000000\n",
      "Marvel Comics        191.546128\n",
      "Shueisha             171.500000\n",
      "Star Trek            181.500000\n",
      "Team Epic TV         180.750000\n",
      "Unknown              178.000000\n",
      "Name: Height, dtype: float64\n"
     ]
    }
   ],
   "source": [
    "print(\"Average height of heroes by publisher:\")\n",
    "print(avg_height_by_publisher)"
   ]
  },
  {
   "cell_type": "code",
   "execution_count": null,
   "id": "910a6aa1",
   "metadata": {},
   "outputs": [],
   "source": []
  }
 ],
 "metadata": {
  "kernelspec": {
   "display_name": "Python 3 (ipykernel)",
   "language": "python",
   "name": "python3"
  },
  "language_info": {
   "codemirror_mode": {
    "name": "ipython",
    "version": 3
   },
   "file_extension": ".py",
   "mimetype": "text/x-python",
   "name": "python",
   "nbconvert_exporter": "python",
   "pygments_lexer": "ipython3",
   "version": "3.11.4"
  },
  "toc": {
   "base_numbering": 1,
   "nav_menu": {},
   "number_sections": false,
   "sideBar": true,
   "skip_h1_title": false,
   "title_cell": "Table of Contents",
   "title_sidebar": "Contents",
   "toc_cell": false,
   "toc_position": {},
   "toc_section_display": true,
   "toc_window_display": false
  }
 },
 "nbformat": 4,
 "nbformat_minor": 5
}
